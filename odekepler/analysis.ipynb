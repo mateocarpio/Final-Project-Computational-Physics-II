{
 "cells": [
  {
   "cell_type": "markdown",
   "id": "cfad1fa5",
   "metadata": {},
   "source": [
    "### Analysis:\n",
    "\n",
    "Within a single python notebook **analysis.ipynb**, add the following:\n",
    "\n",
    "(g) Use your script to generate two simulations: one for $e=0.01671$ and one for $e=0.25$ (which is Pluto's eccentricity) for $T=5$ and RK2. What would happen if Earth would have the eccentrity of Pluto? It may be helpful to compare the orbital history for both values of $e$ in a single plot.\n",
    "\n"
   ]
  },
  {
   "cell_type": "code",
   "execution_count": 1,
   "id": "728beb0d",
   "metadata": {},
   "outputs": [],
   "source": [
    "import numpy as np\n",
    "import matplotlib.pyplot as plt\n",
    "import os\n",
    "import glob\n",
    "from PIL import Image\n"
   ]
  },
  {
   "cell_type": "code",
   "execution_count": 2,
   "id": "2071a08d",
   "metadata": {},
   "outputs": [],
   "source": [
    "#Run simulation for T = 5 years e = 0.01671 using RK2 \n",
    "!python kepler.py -im -g -RK 2 -T 5 -e 0.01671 "
   ]
  },
  {
   "cell_type": "code",
   "execution_count": 3,
   "id": "f2cfce3a",
   "metadata": {},
   "outputs": [],
   "source": [
    "#Run simulation for T = 5 years e = 0.25 using RK2\n",
    "!python kepler.py -im -g -RK 2 -T 5 -e 0.25"
   ]
  },
  {
   "cell_type": "code",
   "execution_count": 4,
   "id": "d098410b",
   "metadata": {},
   "outputs": [],
   "source": [
    "def comparison_maps(i, x1_values, y1_values, vx1_values, vy1_values, x2_values, y2_values, vx2_values, vy2_values, t_values):\n",
    "    \n",
    "    fig, (ax1,ax2) = plt.subplots(2, 1, figsize=(10,12))\n",
    "    ax1.set_title('time [years] = %.3f' %t_values[i] , size = 20)\n",
    "    \n",
    "    ax1.plot(x1_values[i], y1_values[i], 'bo', markersize=10, label='$e=0.25$')    # Earth\n",
    "    ax1.plot(x2_values[i], y2_values[i], 'ro', markersize=10, label='$e=0.01671$')    # Earth\n",
    "        \n",
    "    ax1.plot(0, 0, 'yo', c='y', markersize=15, label='$ r_{Sun} $')          # Sun\n",
    "\n",
    "    ax1.plot(x1_values[:i], y1_values[:i], linestyle=':', c='b', linewidth=0.5)          # Sun\n",
    "    ax1.plot(x2_values[:i], y2_values[:i], linestyle=':', color='r', linewidth=0.5)          # Sun\n",
    "\n",
    "    ax1.tick_params(axis='both', which='major', labelsize=14, width=2, length=7)\n",
    "\n",
    "    ax1.set_xlabel('$x [AU]$', size=15)\n",
    "    ax1.set_ylabel('$y [AU]$', size=15)\n",
    "\n",
    "    ax1.set_xlim([-1.7, 1.7])\n",
    "    ax1.set_ylim([-1.7, 1.7])\n",
    "\n",
    "    ax1.legend(fontsize=16)\n",
    "    ax1.grid()\n",
    "\n",
    "        \n",
    "        \n",
    "    ax2.plot(vx1_values[i], vy1_values[i], 'bo', markersize=10, label='$e=0.25$')\n",
    "    ax2.plot(vx2_values[i], vy2_values[i], 'ro', markersize=10, label='$e=0.01671$')\n",
    "\n",
    "    ax2.plot(0, 0, 'yo', c='y', markersize=15, label='$v_{Sun}$')          # Sun\n",
    "\n",
    "    ax2.plot(vx1_values[:i], vy1_values[:i], linestyle=':', c='b', linewidth=0.5)          # Sun\n",
    "    ax2.plot(vx2_values[:i], vy2_values[:i], linestyle=':', c='r', linewidth=0.5)          # Sun\n",
    "\n",
    "    ax2.tick_params(axis='both', which='major', labelsize=14, width=2, length=7)\n",
    "\n",
    "    ax2.set_xlabel('$v_x [AU/years]$', size=15)\n",
    "    ax2.set_ylabel('$v_y [AU/years]$', size=15)\n",
    "\n",
    "    ax2.set_xlim([-9, 10])\n",
    "    ax2.set_ylim([-9, 10])\n",
    "\n",
    "    ax2.legend(fontsize=16)\n",
    "    ax2.grid()\n",
    "\n",
    "    if not os.path.exists(\"./outputfolder/comparison_e_orbits_images\"):\n",
    "        os.makedirs(\"./outputfolder/comparison_e_orbits_images\")\n",
    "    plt.savefig(\"./outputfolder/comparison_e_orbits_images/orbit{:03d}.png\".format(i))\n",
    "\n",
    "    plt.close()"
   ]
  },
  {
   "cell_type": "code",
   "execution_count": 5,
   "id": "241b3c77",
   "metadata": {},
   "outputs": [],
   "source": [
    "#Import data\n",
    "\n",
    "data_ecc_0_25 = np.loadtxt(\"./outputfolder/Period_5-ecc_0.25-t_step_0.01/history.txt\", skiprows=1)\n",
    "\n",
    "t_values = data_ecc_0_25[:, 0]\n",
    "\n",
    "x_values_1 = data_ecc_0_25[:, 1]\n",
    "y_values_1 = data_ecc_0_25[:, 2]\n",
    "vx_values_1 = data_ecc_0_25[:, 3]\n",
    "vy_values_1 = data_ecc_0_25[:, 4]\n",
    "\n",
    "data_ecc_0_01671 = np.loadtxt(\"./outputfolder/Period_5-ecc_0.01671-t_step_0.01/history.txt\", skiprows=1)\n",
    "\n",
    "x_values_2 = data_ecc_0_01671[:, 1]\n",
    "y_values_2 = data_ecc_0_01671[:, 2]\n",
    "vx_values_2 = data_ecc_0_01671[:, 3]\n",
    "vy_values_2 = data_ecc_0_01671[:, 4]\n",
    "\n",
    "\n"
   ]
  },
  {
   "cell_type": "code",
   "execution_count": 6,
   "id": "b757fa51",
   "metadata": {},
   "outputs": [],
   "source": [
    "# Create images \n",
    "for i in range(len(t_values)):\n",
    "    if i%5 == 0:\n",
    "        comparison_maps(i, x_values_1, y_values_1, vx_values_1, vy_values_1,x_values_2, y_values_2, vx_values_1, vy_values_2, t_values)\n",
    "\n",
    "    "
   ]
  },
  {
   "cell_type": "code",
   "execution_count": 7,
   "id": "0928046a",
   "metadata": {},
   "outputs": [],
   "source": [
    "images_in = \"./outputfolder/comparison_e_orbits_images/orbit****.png\"\n",
    "\n",
    "gif_image_out = \"./outputfolder/compared_orbtits.gif\"\n",
    "\n",
    "imgs = (Image.open(f) for f in sorted(glob.glob(images_in)))\n",
    "\n",
    "img = next(imgs)\n",
    "\n",
    "img.save(fp = gif_image_out, format='GIF', append_images=imgs, save_all=True, duration=100, loop=0)\n"
   ]
  },
  {
   "cell_type": "markdown",
   "id": "999192fe",
   "metadata": {},
   "source": [
    "As we can see in the gif animation called compared_orbtits.gif in the output folder, when we change the eccentricity, the orbit deviates from the circle form and becomes more elliptical. We notice that the perihelion will be closer to the Sun while the aphelion will be farther. \n",
    "\n",
    "For the velocity, if Earth had the eccentricity of Pluto, its speed would vary depending on its distance from the Sun. When Earth is closest to the Sun (at perihelion), it moves faster than at standard conditions, while at aphelion, it moves slower."
   ]
  },
  {
   "cell_type": "markdown",
   "id": "2e62c24a",
   "metadata": {},
   "source": [
    "(h) Use your script to measure the convergence of RK3 for $e=0.01671$ by integrating at a number of different time steps. To analyse convergence, you need to define some measure for the error, e.g., you can consider the change in radius after one period (i.e., at $T=1$). Thus, you should add additional functions for this to your code in **kepler.py**. **Note:** Please include your own simulations in the **outputfolder** for a reference."
   ]
  },
  {
   "cell_type": "markdown",
   "id": "ca42e3c4",
   "metadata": {},
   "source": [
    "We are going to conisder the absolute error in the change of the radius after one period for the steps sizes 0.001 0.01 and 0.5"
   ]
  },
  {
   "cell_type": "code",
   "execution_count": 8,
   "id": "a6283769",
   "metadata": {},
   "outputs": [],
   "source": [
    "#Run simulation for T = 1 years e = 0.01671 using RK3 and time steps of 0.001\n",
    "!python kepler.py -RK 3 -T 1 -e 0.01671 -k 0.001\n",
    "\n",
    "\n"
   ]
  },
  {
   "cell_type": "code",
   "execution_count": 9,
   "id": "21b2d34f",
   "metadata": {},
   "outputs": [],
   "source": [
    "#Run simulation for T = 1 years e = 0.01671 using RK3 and time steps of 0.01\n",
    "!python kepler.py -RK 3 -T 1 -e 0.01671 -k 0.01\n",
    "\n"
   ]
  },
  {
   "cell_type": "code",
   "execution_count": 10,
   "id": "35336ecd",
   "metadata": {},
   "outputs": [],
   "source": [
    "#Run simulation for T = 1 years e = 0.01671 using RK3 and time steps of 0.05\n",
    "!python kepler.py -RK 3 -T 1 -e 0.01671 -k 0.05\n",
    "\n"
   ]
  },
  {
   "cell_type": "code",
   "execution_count": 11,
   "id": "cf33f2db",
   "metadata": {},
   "outputs": [],
   "source": [
    "#Extract the data of the previous simulations\n",
    "data_ts_0_001 = np.loadtxt(\"./outputfolder/Period_1-ecc_0.01671-t_step_0.001/history.txt\", skiprows=1)\n",
    "data_ts_0_01 = np.loadtxt(\"./outputfolder/Period_1-ecc_0.01671-t_step_0.01/history.txt\", skiprows=1)\n",
    "data_ts_0_05 = np.loadtxt(\"./outputfolder/Period_1-ecc_0.01671-t_step_0.05/history.txt\", skiprows=1)\n",
    "\n",
    "#Extract the initial radius\n",
    "r_0 = [data_ts_0_001[0, 1], data_ts_0_001[0, 2]]\n",
    "radius_0 = np.sqrt(r_0[0]**2 + r_0[1]**2)\n",
    "\n",
    "#Extract the radius after one period for step_sizes of 0.001\n",
    "r_ts_0_001 = [data_ts_0_001[-1, 1], data_ts_0_001[-1, 2]]\n",
    "radius_ts_0_001 = np.sqrt(r_ts_0_001[0]**2 + r_ts_0_001[1]**2)\n",
    "\n",
    "#Extract the radius after one period for step_sizes of 0.01\n",
    "r_ts_0_01 = [data_ts_0_01[-1, 1], data_ts_0_01[-1, 2]]\n",
    "radius_ts_0_01 = np.sqrt(r_ts_0_01[0]**2 + r_ts_0_01[1]**2)\n",
    "\n",
    "#Extract the radius after one period for step_sizes of 0.01\n",
    "r_ts_0_05 = [data_ts_0_05[-1, 1], data_ts_0_05[-1, 2]]\n",
    "radius_ts_0_05 = np.sqrt(r_ts_0_05[0]**2 + r_ts_0_05[1]**2)\n"
   ]
  },
  {
   "cell_type": "code",
   "execution_count": 12,
   "id": "032207de",
   "metadata": {},
   "outputs": [
    {
     "data": {
      "image/png": "[encoded data removed]",
      "text/plain": [
       "<Figure size 720x720 with 1 Axes>"
      ]
     },
     "metadata": {
      "needs_background": "light"
     },
     "output_type": "display_data"
    }
   ],
   "source": [
    "#Plotting \n",
    "\n",
    "plt.figure(figsize=(10,10))\n",
    "\n",
    "plt.plot(0.001, np.log10(abs(radius_ts_0_001 - radius_0)) , \"-o\", markersize=10, label = \"$t_{step} = 0.001$\")\n",
    "plt.plot(0.01, np.log10(abs(radius_ts_0_01 - radius_0)) , \"-o\", markersize=10, label = \"$t_{step} = 0.01$\")\n",
    "plt.plot(0.05, np.log10(abs(radius_ts_0_05 - radius_0)) , \"-o\", markersize=10, label = \"$t_{step} = 0.05$\")\n",
    "\n",
    "plt.xlabel('$t_{step}$', size=22)\n",
    "plt.ylabel('$Log_{10}$( Absolute error)', size=22)\n",
    "\n",
    "\n",
    "plt.legend(fontsize=18)\n",
    "plt.show()\n"
   ]
  },
  {
   "cell_type": "markdown",
   "id": "c6d301f8",
   "metadata": {},
   "source": [
    "As we expected, when we decrease the step sizes in the RK3 method we get more accuracy as it is clear in the plot. That is the error between the true radius and the numerical radius decreases. For example for step sizes of $k=0.001$ the error is of the order of $10^{-9}$ $[AU]$  as it is expected since the error must behave as $O(h^{3})$  (third-order). \n"
   ]
  },
  {
   "cell_type": "code",
   "execution_count": null,
   "id": "c6d50014",
   "metadata": {},
   "outputs": [],
   "source": []
  }
 ],
 "metadata": {
  "kernelspec": {
   "display_name": "Python 3",
   "language": "python",
   "name": "python3"
  },
  "language_info": {
   "codemirror_mode": {
    "name": "ipython",
    "version": 3
   },
   "file_extension": ".py",
   "mimetype": "text/x-python",
   "name": "python",
   "nbconvert_exporter": "python",
   "pygments_lexer": "ipython3",
   "version": "3.8.8"
  }
 },
 "nbformat": 4,
 "nbformat_minor": 5
}
